{
 "cells": [
  {
   "cell_type": "code",
   "execution_count": null,
   "metadata": {},
   "outputs": [],
   "source": [
    "import pickle\n",
    "\n",
    "from flask import Flask\n",
    "from flask import request\n",
    "from flask import jsonify"
   ]
  },
  {
   "cell_type": "code",
   "execution_count": null,
   "metadata": {},
   "outputs": [],
   "source": [
    "model_file = 'model.pkl'\n",
    "\n",
    "with open(model_file, 'rb') as f_in:\n",
    "    model = pickle.load(f_in)\n",
    "\n",
    "app = Flask('predict')\n",
    "\n",
    "@app.route('/predict', methods=['POST'])\n",
    "def predict():\n",
    "    patient = request.get_json()\n",
    "    # Convert the dictionary values to a 1D numpy array\n",
    "    input_array = np.array(list(patient.values()))\n",
    "\n",
    "    # Reshape the input array to make it 2D\n",
    "    input_array_2d = input_array.reshape(1, -1)\n",
    "\n",
    "    # Now, you can use the reshaped array for making predictions\n",
    "    predictions = model.predict(input_array_2d)\n",
    "\n",
    "#    X = transform.fit_transform([patient])\n",
    "#    y_pred = model.predict(X)\n",
    "    PD = y_pred == 1\n",
    "\n",
    "    result = {\n",
    "        'PD_probability': int(y_pred),\n",
    "        'PD patient': bool(PD)\n",
    "    }\n",
    "\n",
    "    return jsonify(result)\n",
    "\n",
    "\n",
    "if __name__ == \"__main__\":\n",
    "    app.run(debug=True, host='0.0.0.0', port=9696)"
   ]
  }
 ],
 "metadata": {
  "kernelspec": {
   "display_name": "base",
   "language": "python",
   "name": "python3"
  },
  "language_info": {
   "codemirror_mode": {
    "name": "ipython",
    "version": 3
   },
   "file_extension": ".py",
   "mimetype": "text/x-python",
   "name": "python",
   "nbconvert_exporter": "python",
   "pygments_lexer": "ipython3",
   "version": "3.11.5"
  }
 },
 "nbformat": 4,
 "nbformat_minor": 2
}
